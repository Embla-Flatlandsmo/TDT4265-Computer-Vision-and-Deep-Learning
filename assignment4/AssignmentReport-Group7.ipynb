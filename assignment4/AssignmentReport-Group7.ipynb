{
 "cells": [
  {
   "cell_type": "markdown",
   "metadata": {},
   "source": [
    "# Assignment 7 Report"
   ]
  },
  {
   "cell_type": "markdown",
   "metadata": {},
   "source": [
    "This is an outline for your report to ease the amount of work required to create your report. Jupyter notebook supports markdown, and I recommend you to check out this [cheat sheet](https://github.com/adam-p/markdown-here/wiki/Markdown-Cheatsheet). If you are not familiar with markdown.\n",
    "\n",
    "Before delivery, **remember to convert this file to PDF**. You can do it in two ways:\n",
    "1. Print the webpage (ctrl+P or cmd+P)\n",
    "2. Export with latex. This is somewhat more difficult, but you'll get somehwat of a \"prettier\" PDF. Go to File -> Download as -> PDF via LaTeX. You might have to install nbconvert and pandoc through conda; `conda install nbconvert pandoc`."
   ]
  },
  {
   "cell_type": "markdown",
   "metadata": {},
   "source": [
    "# Task 1"
   ]
  },
  {
   "cell_type": "markdown",
   "metadata": {},
   "source": [
    "## task 1a)\n",
    "\n",
    "Intersection over union is used in measuring precision. It is particularly useful when we want to measure how well a neural network is able to separate objects by using bounding boxes.\n",
    "\n",
    "![Intersection over union](report_material/intersection_over_union.PNG \"Intersection over union\")\n",
    "\n",
    "In intersection over union, we measure how much the predicted bounding box overlaps with the real bounding box. Say we have the red bounding box which is our prediction, and the blue one is the ground truth. To measure how well the neural network is able to predict this bounding box, we look at the ratio of the intersection of the two boxes (area A), divided by the union of the two boxes (areas A+B+C)."
   ]
  },
  {
   "cell_type": "markdown",
   "metadata": {},
   "source": [
    "## task 1b)\n",
    "\n",
    "**True positive (TP)**: We have predicted a result as a positive, and the ground truth is also positive (correct prediction).\n",
    "\n",
    "**False positive (FP)**: We have predicted the result as a positive, but the ground truth is actually negative (incorrect prediction).\n",
    "\n",
    "**Precision**: Out of all the positives we report, how many of them are really positive? i.e. how many of our positive predictions are correct? \n",
    "$$Precision =\\frac{TP}{TP+FP}$$\n",
    "\n",
    "**Recall**: How well are we able to find all the positives? High recall means we have few false negatives (FN), i.e we are able to catch almost all positive cases.\n",
    "$$Recall = \\frac{TP}{TP+FN}$$\n",
    "\n",
    "\n",
    "## task 1c)\n",
    "\n",
    "Here I have plotted the precision recall curves for both classes. The red boxes are the boxes over which we sum AP.\n",
    "\n",
    "![Precision recall for class 1](report_material/precision_recall_curve_class_1_boxes.png \"Precision recall for class 1\")\n",
    "\n",
    "For class 1, we have:\n",
    "$$\n",
    "AP=\\frac{1}{11}\\sum_{r\\in \\{0.0, \\cdots 1.0\\}}AP_r = \\frac{1}{11}(5\\cdot 1.0 + 0.75 + 0.5 + 0.4 + 0.3 + 0.2) = \\frac{7.15}{11} = 0.65\n",
    "$$\n",
    "\n",
    "\n",
    "![Precision recall for class 2](report_material/precision_recall_curve_class_2_boxes.png \"Precision recall for class 2\")\n",
    "\n",
    "For class 2:\n",
    "$$\n",
    "AP=\\frac{1}{11}(3\\cdot 1.0+0.8+0.6+0.55+0.5+0.4+0.3) = \\frac{6.25}{11}=0.568\n",
    "$$\n",
    "\n",
    "The mean average precision is the mean of the two APs:\n",
    "$$\n",
    "mAP = \\frac{1}{2}\\frac{6.25+7.15}{11}=0.609\n",
    "$$"
   ]
  },
  {
   "cell_type": "markdown",
   "metadata": {},
   "source": [
    "# Task 2\n",
    "\n",
    "### Task 2f)\n"
   ]
  },
  {
   "cell_type": "markdown",
   "metadata": {},
   "source": [
    "# Task 3"
   ]
  },
  {
   "cell_type": "markdown",
   "metadata": {},
   "source": [
    "### Task 3a)\n",
    "Fill in task 1a image of hand-written notes which are easy to read, or latex equations here\n",
    "\n",
    "### Task 3b)\n",
    "Fill in task 1a image of hand-written notes which are easy to read, or latex equations here\n",
    "\n",
    "### Task 3c)\n",
    "Fill in task 1a image of hand-written notes which are easy to read, or latex equations here\n",
    "\n",
    "\n",
    "### Task 3d)\n",
    "Fill in task 1a image of hand-written notes which are easy to read, or latex equations here\n",
    "\n",
    "### Task 3e)\n",
    "Fill in task 1a image of hand-written notes which are easy to read, or latex equations here\n",
    "\n",
    "### Task 3f)\n",
    "Fill in task 1a image of hand-written notes which are easy to read, or latex equations here\n"
   ]
  },
  {
   "cell_type": "markdown",
   "metadata": {},
   "source": [
    "# Task 4"
   ]
  },
  {
   "cell_type": "markdown",
   "metadata": {},
   "source": [
    "## Task 4b)\n",
    "\n",
    "FILL IN ANSWER. \n",
    "\n",
    "## Task 4c)\n",
    "FILL IN ANSWER. \n",
    "\n",
    "\n",
    "## Task 4d)\n",
    "FILL IN ANSWER. \n",
    "\n",
    "\n",
    "## Task 4e)\n",
    "FILL IN ANSWER. \n",
    "\n",
    "\n",
    "## Task 4f)\n",
    "FILL IN ANSWER. "
   ]
  }
 ],
 "metadata": {
  "kernelspec": {
   "display_name": "Python 3.8.1 64-bit ('py38': conda)",
   "language": "python",
   "name": "python38164bitpy38condac1f68ca5407a4349b0d7e37676f2fbb3"
  },
  "language_info": {
   "codemirror_mode": {
    "name": "ipython",
    "version": 3
   },
   "file_extension": ".py",
   "mimetype": "text/x-python",
   "name": "python",
   "nbconvert_exporter": "python",
   "pygments_lexer": "ipython3",
   "version": "3.8.1"
  }
 },
 "nbformat": 4,
 "nbformat_minor": 4
}
