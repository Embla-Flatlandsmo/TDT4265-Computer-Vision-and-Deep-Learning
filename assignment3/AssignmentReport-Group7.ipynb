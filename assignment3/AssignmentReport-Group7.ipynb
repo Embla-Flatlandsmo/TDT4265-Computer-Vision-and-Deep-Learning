{
 "cells": [
  {
   "cell_type": "markdown",
   "metadata": {},
   "source": [
    "# Assignment 3 Report"
   ]
  },
  {
   "cell_type": "markdown",
   "metadata": {},
   "source": [
    "This is an outline for your report to ease the amount of work required to create your report. Jupyter notebook supports markdown, and I recommend you to check out this [cheat sheet](https://github.com/adam-p/markdown-here/wiki/Markdown-Cheatsheet). If you are not familiar with markdown.\n",
    "\n",
    "Before delivery, **remember to convert this file to PDF**. You can do it in two ways:\n",
    "1. Print the webpage (ctrl+P or cmd+P)\n",
    "2. Export with latex. This is somewhat more difficult, but you'll get somehwat of a \"prettier\" PDF. Go to File -> Download as -> PDF via LaTeX. You might have to install nbconvert and pandoc through conda; `conda install nbconvert pandoc`."
   ]
  },
  {
   "cell_type": "markdown",
   "metadata": {},
   "source": [
    "# Task 1"
   ]
  },
  {
   "cell_type": "markdown",
   "metadata": {},
   "source": [
    "## Task 1a\n",
    "To perform spatial convolution, we must rotate the kernel by 180 degrees, then we can perform the easier-to-understand (to me, at least) spatial correlation.\n",
    "So, the kernel becomes\n",
    "\\begin{equation}\n",
    "K = \\begin{bmatrix} 1 & 0 & -1 \\\\ 2 & 0 & -2 \\\\ 1 & 0 & -1\n",
    "\\end{bmatrix}\n",
    "\\end{equation}\n",
    "\n",
    "Since the convolved image should be $3\\times5$, I choose to zero-pad the immage by 1 on both vertical and horizontal. This means that we perform our convolution on: \n",
    "\\begin{equation}\n",
    "K = \\begin{bmatrix} \n",
    "0 & 0 & 0 & 0 & 0 & 0 & 0 \\\\\n",
    "0 & 1 & 0 & 2 & 3 & 1 & 0 \\\\\n",
    "0 & 3 & 2 & 0 & 7 & 0 & 0 \\\\\n",
    "0 & 0 & 6 & 1 & 1 & 4 & 0 \\\\\n",
    "0 & 0 & 0 & 0 & 0 & 0 & 0\n",
    "\\end{bmatrix}\n",
    "\\end{equation}\n",
    "\n",
    "For a pixel in the original image, we then perform the correlation using the 3x3 pixels surrounding it.\n",
    "\n",
    "**To make it a bit more clear what I'm doing, here is how I compute the top-left value in the original image:**\n",
    "\n",
    "$$out = 1*0 + 0*0 + (-1)*0 + 2*0 + 0*1 + (-2)*0 + 1*0 + 0*3 + (-1)*2 = -2$$\n",
    "\n",
    "**Another example: for the centermost pixel in the original image image *(it has a value of 0)*:**\n",
    "$$out = 1*0+0*2+(-1)*3+2*2+0*0+(-2)*7+1*6+0*1+(-1)*1=-8$$\n",
    "\n",
    "Performing this correlation on all the image values yields\n",
    "\\begin{equation}\n",
    "K = \\begin{bmatrix} \n",
    "-2 & 1 & -11 & 2 & 13\\\\\n",
    "-10 & 4 & -8 & -2 & 18\\\\\n",
    "-14 & 1 & 5 & -6 & 9\\\\\n",
    "\\end{bmatrix}\n",
    "\\end{equation}"
   ]
  },
  {
   "cell_type": "markdown",
   "metadata": {},
   "source": [
    "## Task 1b\n",
    "I think **max pooling** contributes to this, as it will output the same pixel intensity regardless of where the pixel is located. Of course, this only applies if the pixel with the max intensity is within the same region as it was before the shift. \n",
    "\n",
    "## Task 1c\n",
    "Since the kernel size is 5x5, we would need to pad by 2 around the whole image (both x and y direction). \n",
    "\n",
    "## Task 1d\n",
    "We have no padding, and the difference in dimensions from input to first layer is $512-504=8$. This means that the kernel has $8/2=4$ entries out from the center in both x and y. This means that the length of both the rows and the columbs is $4+4+1=9$ **In conclusion, the kernel size is $9\\times9$.**\n",
    "\n",
    "*Doing a reverse check:\n",
    "For a $9\\times9$ kernel with a stride of 1 and no padding, we will \"slice off\" $\\lfloor \\frac{8}{2} \\rfloor = 4$ pixels from the original image for each edge. This means that the resultant picture will have dimensions $(512-4-4)\\times(512-4-4)=504\\times504$.* \n",
    "\n",
    "## Task 1e\n",
    "When we use a size of $2\\times2$ and a stride of 2, the resolution is halved. If the input layer has dimensions $504\\times504$, then the spatial dimensions of the pooled feature maps has dimensions $252\\times252$\n",
    "\n",
    "## Task 1f\n",
    "This is similar to the reverse check done in task 1d. For a $3\\times3$ kernel with a stride of 1 and 0 padding, we will \"cut off\" $\\lfloor \\frac{3}{2} \\rfloor = 1$ pixels from the input image for each edge. This means that the resultant picture will have dimensions $(252-1-1)\\times(252-1-1)=250\\times250$\n",
    "\n",
    "## Task 1g\n",
    "Calculating the number of weights for layers 1-3 is pretty simple. However, to calculate the weights in layer 4, we need to know the dimensions of the input layer"
   ]
  },
  {
   "cell_type": "code",
   "execution_count": null,
   "metadata": {},
   "outputs": [],
   "source": []
  }
 ],
 "metadata": {
  "kernelspec": {
   "display_name": "Python 3",
   "language": "python",
   "name": "python3"
  },
  "language_info": {
   "codemirror_mode": {
    "name": "ipython",
    "version": 3
   },
   "file_extension": ".py",
   "mimetype": "text/x-python",
   "name": "python",
   "nbconvert_exporter": "python",
   "pygments_lexer": "ipython3",
   "version": "3.8.8"
  }
 },
 "nbformat": 4,
 "nbformat_minor": 4
}
